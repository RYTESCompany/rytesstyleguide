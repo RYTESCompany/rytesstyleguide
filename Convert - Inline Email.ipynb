{
 "cells": [
  {
   "cell_type": "code",
   "execution_count": 4,
   "metadata": {},
   "outputs": [],
   "source": [
    "import css_inline\n",
    "import os\n",
    "import re\n",
    "\n",
    "for template_name in os.listdir(r'email-templates'):\n",
    "    if \".html\" in template_name:\n",
    "        html = open(fr'email-templates/{template_name}', 'r').read()\n",
    "        html = re.sub(r'<!--(.*?)-->', '', html, flags=re.DOTALL)\n",
    "        html = html[html.find('<!DOCTYPE html'):]\n",
    "        inlined = css_inline.inline(html)\n",
    "        open(fr'inline-email-templates/{template_name}', 'w').write(inlined)"
   ]
  },
  {
   "cell_type": "code",
   "execution_count": null,
   "metadata": {},
   "outputs": [],
   "source": [
    "print(inlined)"
   ]
  }
 ],
 "metadata": {
  "kernelspec": {
   "display_name": "Python 3",
   "language": "python",
   "name": "python3"
  },
  "language_info": {
   "codemirror_mode": {
    "name": "ipython",
    "version": 3
   },
   "file_extension": ".py",
   "mimetype": "text/x-python",
   "name": "python",
   "nbconvert_exporter": "python",
   "pygments_lexer": "ipython3",
   "version": "3.11.2"
  }
 },
 "nbformat": 4,
 "nbformat_minor": 2
}
